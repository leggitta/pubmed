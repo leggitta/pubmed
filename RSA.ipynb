{
 "cells": [
  {
   "cell_type": "code",
   "execution_count": 1,
   "metadata": {
    "collapsed": true
   },
   "outputs": [],
   "source": [
    "from Bio import Entrez\n",
    "import pandas as pd\n",
    "import os"
   ]
  },
  {
   "cell_type": "code",
   "execution_count": 2,
   "metadata": {},
   "outputs": [],
   "source": [
    "Entrez.email = \"leggitta3@gmail.com\""
   ]
  },
  {
   "cell_type": "code",
   "execution_count": 3,
   "metadata": {},
   "outputs": [],
   "source": [
    "# search using a search term\n",
    "h = Entrez.esearch(db='pmc', term='\"respiratory sinus arrhythmia\"', retmax=10)\n",
    "r = Entrez.read(h)\n",
    "ids = r['IdList']\n",
    "\n",
    "# print summary\n",
    "mylist = []\n",
    "for i in ids:\n",
    "    \n",
    "    h = Entrez.esummary(db='pmc', id=i)\n",
    "    r = Entrez.read(h)\n",
    "    \n",
    "    mylist.append(r)"
   ]
  },
  {
   "cell_type": "code",
   "execution_count": 4,
   "metadata": {},
   "outputs": [],
   "source": [
    "def get_link_ids(pmcid, linkname='pmc_pcm_cites'):\n",
    "    '''\n",
    "    For cited articles: linkname = 'pmc_pcm_cites'\n",
    "    For articles citing this article: linkname = 'pmc_pmc_citedby'\n",
    "    '''\n",
    "    h = Entrez.elink(db='pmc', dbfrom='pmc', id=pmcid, linkname=linkname)\n",
    "    r = Entrez.read(h)\n",
    "    ids = [i['Id'] for i in r[0]['LinkSetDb'][0]['Link']]\n",
    "    return ids"
   ]
  },
  {
   "cell_type": "code",
   "execution_count": 5,
   "metadata": {},
   "outputs": [
    {
     "data": {
      "text/plain": [
       "[[{'Item': [], 'Id': '5573740', 'PubDate': '2017 Aug 24', 'EPubDate': '2017 Aug 24', 'Source': 'Front Physiol', 'AuthorList': ['Koenig J', 'Rash JA', 'Campbell TS', 'Thayer JF', 'Kaess M'], 'Title': 'A Meta-Analysis on Sex Differences in Resting-State Vagal Activity in Children and Adolescents', 'Volume': '8', 'Issue': '', 'Pages': '582', 'ArticleIds': {'pubmed': [], 'medline': [], 'pmid': '0', 'doi': '10.3389/fphys.2017.00582', 'pmcid': 'PMC5573740'}, 'DOI': '10.3389/fphys.2017.00582', 'FullJournalName': 'Frontiers in Physiology', 'SO': '2017 Aug 24;8:582'}],\n",
       " [{'Item': [], 'Id': '5557757', 'PubDate': '2017 Aug 15', 'EPubDate': '2017 Aug 15', 'Source': 'Sci Rep', 'AuthorList': ['Fukuyama H', 'Kumagaya SI', 'Asada K', 'Ayaya S', 'Kato M'], 'Title': 'Autonomic versus perceptual accounts for tactile hypersensitivity in autism spectrum disorder', 'Volume': '7', 'Issue': '', 'Pages': '8259', 'ArticleIds': {'pubmed': [], 'medline': [], 'pmid': '28811601', 'doi': '10.1038/s41598-017-08730-3', 'pmcid': 'PMC5557757'}, 'DOI': '10.1038/s41598-017-08730-3', 'FullJournalName': 'Scientific Reports', 'SO': '2017 Aug 15;7:8259'}],\n",
       " [{'Item': [], 'Id': '5556092', 'PubDate': '2017 Aug 14', 'EPubDate': '2017 Aug 14', 'Source': 'Sci Rep', 'AuthorList': ['Bernardi NF', 'Snow S', 'Peretz I', 'Orozco Perez HD', 'Sabet-Kassouf N', 'Lehmann A'], 'Title': 'Cardiorespiratory optimization during improvised singing and toning', 'Volume': '7', 'Issue': '', 'Pages': '8113', 'ArticleIds': {'pubmed': [], 'medline': [], 'pmid': '28808334', 'doi': '10.1038/s41598-017-07171-2', 'pmcid': 'PMC5556092'}, 'DOI': '10.1038/s41598-017-07171-2', 'FullJournalName': 'Scientific Reports', 'SO': '2017 Aug 14;7:8113'}],\n",
       " [{'Item': [], 'Id': '5554345', 'PubDate': '2017 Aug 10', 'EPubDate': '2017 Aug 10', 'Source': 'Front Neurosci', 'AuthorList': ['Bourdillon N', 'Schmitt L', 'Yazdani S', 'Vesin JM', 'Millet GP'], 'Title': 'Minimal Window Duration for Accurate HRV Recording in Athletes', 'Volume': '11', 'Issue': '', 'Pages': '456', 'ArticleIds': {'pubmed': [], 'medline': [], 'pmid': '28848382', 'doi': '10.3389/fnins.2017.00456', 'pmcid': 'PMC5554345'}, 'DOI': '10.3389/fnins.2017.00456', 'FullJournalName': 'Frontiers in Neuroscience', 'SO': '2017 Aug 10;11:456'}],\n",
       " [{'Item': [], 'Id': '5542430', 'PubDate': '2017 Aug 3', 'EPubDate': '2017 Aug 3', 'Source': 'PLoS One', 'AuthorList': ['Moss TJ', 'Clark MT', 'Calland JF', 'Enfield KB', 'Voss JD', 'Lake DE', 'Moorman JR'], 'Title': 'Cardiorespiratory dynamics measured from continuous ECG monitoring improves detection of deterioration in acute care patients: A retrospective cohort study', 'Volume': '12', 'Issue': '8', 'Pages': 'e0181448', 'ArticleIds': {'pubmed': [], 'medline': [], 'pmid': '28771487', 'doi': '10.1371/journal.pone.0181448', 'pmcid': 'PMC5542430'}, 'DOI': '10.1371/journal.pone.0181448', 'FullJournalName': 'PLoS ONE', 'SO': '2017 Aug 3;12(8):e0181448'}],\n",
       " [{'Item': [], 'Id': '5534856', 'PubDate': '2017 Jul 31', 'EPubDate': '2017 Jul 31', 'Source': 'Front Med (Lausanne)', 'AuthorList': ['Lamb DG', 'Porges EC', 'Lewis GF', 'Williamson JB'], 'Title': 'Non-invasive Vagal Nerve Stimulation Effects on Hyperarousal and Autonomic State in Patients with Posttraumatic Stress Disorder and History of Mild Traumatic Brain Injury: Preliminary Evidence', 'Volume': '4', 'Issue': '', 'Pages': '124', 'ArticleIds': {'pubmed': [], 'medline': [], 'pmid': '28824913', 'doi': '10.3389/fmed.2017.00124', 'pmcid': 'PMC5534856'}, 'DOI': '10.3389/fmed.2017.00124', 'FullJournalName': 'Frontiers in Medicine', 'SO': '2017 Jul 31;4:124'}],\n",
       " [{'Item': [], 'Id': '5524402', 'PubDate': '2017 Jul 24', 'EPubDate': '2017 Jul 24', 'Source': 'PLoS One', 'AuthorList': ['Sato D', 'Yamazaki Y', 'Takahashi A', 'Uetake Y', 'Nakano S', 'Iguchi K', 'Baba Y', 'Nara R', 'Shimoyama Y'], 'Title': 'Water immersion decreases sympathetic skin response during color–word Stroop test', 'Volume': '12', 'Issue': '7', 'Pages': 'e0180765', 'ArticleIds': {'pubmed': [], 'medline': [], 'pmid': '28742137', 'doi': '10.1371/journal.pone.0180765', 'pmcid': 'PMC5524402'}, 'DOI': '10.1371/journal.pone.0180765', 'FullJournalName': 'PLoS ONE', 'SO': '2017 Jul 24;12(7):e0180765'}],\n",
       " [{'Item': [], 'Id': '5530857', 'PubDate': '2017 Jul 20', 'EPubDate': '2017 Jul 20', 'Source': 'Psychol Res Behav Manag', 'AuthorList': ['Lieneman CC', 'Brabson LA', 'Highlander A', 'Wallace NM', 'McNeil CB'], 'Title': 'Parent–Child Interaction Therapy: current perspectives', 'Volume': '10', 'Issue': '', 'Pages': '239-256', 'ArticleIds': {'pubmed': [], 'medline': [], 'pmid': '28790873', 'doi': '10.2147/PRBM.S91200', 'pmcid': 'PMC5530857'}, 'DOI': '10.2147/PRBM.S91200', 'FullJournalName': 'Psychology Research and Behavior Management', 'SO': '2017 Jul 20;10:239-256'}],\n",
       " [{'Item': [], 'Id': '5519181', 'PubDate': '2017 Jul 20', 'EPubDate': '2017 Jul 20', 'Source': 'PLoS One', 'AuthorList': ['Potočnik N', 'Perše M', 'Cerar A', 'Injac R', 'Finderle Ž'], 'Title': 'Cardiac autonomic modulation induced by doxorubicin in a rodent model of colorectal cancer and the influence of fullerenol pretreatment', 'Volume': '12', 'Issue': '7', 'Pages': 'e0181632', 'ArticleIds': {'pubmed': [], 'medline': [], 'pmid': '28727839', 'doi': '10.1371/journal.pone.0181632', 'pmcid': 'PMC5519181'}, 'DOI': '10.1371/journal.pone.0181632', 'FullJournalName': 'PLoS ONE', 'SO': '2017 Jul 20;12(7):e0181632'}],\n",
       " [{'Item': [], 'Id': '5515999', 'PubDate': '2017 Jul 18', 'EPubDate': '2017 Jul 18', 'Source': 'Sci Rep', 'AuthorList': ['Gomes PM', 'Sá RW', 'Aguiar GL', 'Paes MH', 'Alzamora AC', 'Lima WG', 'de Oliveira LB', 'Stocker SD', 'Antunes VR', 'Cardoso LM'], 'Title': 'Chronic high-sodium diet intake after weaning lead to neurogenic hypertension in adult Wistar rats', 'Volume': '7', 'Issue': '', 'Pages': '5655', 'ArticleIds': {'pubmed': [], 'medline': [], 'pmid': '28720883', 'doi': '10.1038/s41598-017-05984-9', 'pmcid': 'PMC5515999'}, 'DOI': '10.1038/s41598-017-05984-9', 'FullJournalName': 'Scientific Reports', 'SO': '2017 Jul 18;7:5655'}]]"
      ]
     },
     "execution_count": 5,
     "metadata": {},
     "output_type": "execute_result"
    }
   ],
   "source": [
    "mylist"
   ]
  },
  {
   "cell_type": "code",
   "execution_count": null,
   "metadata": {
    "collapsed": true
   },
   "outputs": [],
   "source": []
  }
 ],
 "metadata": {
  "kernelspec": {
   "display_name": "Python 3",
   "language": "python",
   "name": "python3"
  },
  "language_info": {
   "codemirror_mode": {
    "name": "ipython",
    "version": 3
   },
   "file_extension": ".py",
   "mimetype": "text/x-python",
   "name": "python",
   "nbconvert_exporter": "python",
   "pygments_lexer": "ipython3",
   "version": "3.6.1"
  }
 },
 "nbformat": 4,
 "nbformat_minor": 2
}
