{
 "cells": [
  {
   "cell_type": "code",
   "execution_count": null,
   "metadata": {
    "collapsed": true
   },
   "outputs": [],
   "source": [
    "from Bio import Entrez\n",
    "import pandas as pd"
   ]
  },
  {
   "cell_type": "code",
   "execution_count": null,
   "metadata": {},
   "outputs": [],
   "source": [
    "Entrez.email = \"leggitta3@gmail.com\"\n",
    "pmcid = \"4252616\"\n",
    "\n",
    "# print summary\n",
    "h = Entrez.esummary(db='pmc', id=pmcid)\n",
    "r = Entrez.read(h)\n",
    "print(r)"
   ]
  },
  {
   "cell_type": "code",
   "execution_count": null,
   "metadata": {},
   "outputs": [],
   "source": [
    "# get cited articles\n",
    "h = Entrez.elink(db='pmc', dbfrom='pmc', id=pmcid, linkname='pmc_pmc_cites')\n",
    "r = Entrez.read(h)\n",
    "ids = [i['Id'] for i in r[0]['LinkSetDb'][0]['Link']]\n",
    "for i in ids:\n",
    "    h = Entrez.esummary(db='pmc', id=i)\n",
    "    r = Entrez.read(h)\n",
    "    pubdate = r[0]['PubDate']\n",
    "    print(i, pubdate)"
   ]
  },
  {
   "cell_type": "code",
   "execution_count": null,
   "metadata": {},
   "outputs": [],
   "source": [
    "# get articles that cite\n",
    "h = Entrez.elink(db='pmc', dbfrom='pmc', id=pmcid, linkname='pmc_pmc_citedby')\n",
    "r = Entrez.read(h)\n",
    "ids = [i['Id'] for i in r[0]['LinkSetDb'][0]['Link']]\n",
    "for i in ids:\n",
    "    h = Entrez.esummary(db='pmc', id=i)\n",
    "    r = Entrez.read(h)\n",
    "    pubdate = r[0]['PubDate']\n",
    "    print(i, pubdate)"
   ]
  },
  {
   "cell_type": "code",
   "execution_count": null,
   "metadata": {
    "collapsed": true,
    "scrolled": false
   },
   "outputs": [],
   "source": [
    "# search using a search term\n",
    "h = Entrez.esearch(db='pmc', term=\"ppg blood pressure\", retmax=int(1e5))\n",
    "r = Entrez.read(h)\n",
    "ids = r['IdList']"
   ]
  },
  {
   "cell_type": "code",
   "execution_count": null,
   "metadata": {
    "collapsed": true
   },
   "outputs": [],
   "source": [
    "# print summary\n",
    "mylist = []\n",
    "for i in ids:\n",
    "    \n",
    "    h = Entrez.esummary(db='pmc', id=i)\n",
    "    r = Entrez.read(h)\n",
    "    \n",
    "    mylist.append(r)"
   ]
  },
  {
   "cell_type": "code",
   "execution_count": null,
   "metadata": {
    "collapsed": true
   },
   "outputs": [],
   "source": [
    "df = pd.DataFrame([m[0] for m in mylist])"
   ]
  },
  {
   "cell_type": "code",
   "execution_count": null,
   "metadata": {
    "collapsed": true
   },
   "outputs": [],
   "source": []
  }
 ],
 "metadata": {
  "kernelspec": {
   "display_name": "Python 3",
   "language": "python",
   "name": "python3"
  },
  "language_info": {
   "codemirror_mode": {
    "name": "ipython",
    "version": 3
   },
   "file_extension": ".py",
   "mimetype": "text/x-python",
   "name": "python",
   "nbconvert_exporter": "python",
   "pygments_lexer": "ipython3",
   "version": "3.6.1"
  }
 },
 "nbformat": 4,
 "nbformat_minor": 2
}
